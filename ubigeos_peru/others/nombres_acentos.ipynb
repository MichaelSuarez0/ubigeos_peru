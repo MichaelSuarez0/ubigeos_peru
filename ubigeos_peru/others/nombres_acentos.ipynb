{
 "cells": [
  {
   "cell_type": "code",
   "execution_count": 6,
   "id": "b58fc132",
   "metadata": {},
   "outputs": [],
   "source": [
    "import os\n",
    "import pandas as pd\n",
    "import unicodedata\n",
    "\n",
    "def eliminar_acentos(texto: str)-> str:\n",
    "    texto_normalizado = unicodedata.normalize('NFKD', texto)\n",
    "    texto_sin_acentos = ''.join(c for c in texto_normalizado if not unicodedata.combining(c))\n",
    "    return texto_sin_acentos\n",
    "\n",
    "\n",
    "script_dir = os.path.join(os.getcwd())\n",
    "databases = os.path.join(script_dir, \"..\", \"databases\")\n",
    "\n",
    "base = \"ubigeo_peru_2016_{}.csv\"\n",
    "departamentos = pd.read_csv(os.path.join(databases, base.format(\"departamentos\")), encoding='utf-8', dtype=str)\n",
    "provincias = pd.read_csv(os.path.join(databases, base.format(\"provincias\")), encoding='utf-8', dtype=str)\n",
    "distritos = pd.read_csv(os.path.join(databases, base.format(\"distritos\")), encoding='utf-8', dtype=str)"
   ]
  },
  {
   "cell_type": "code",
   "execution_count": 7,
   "id": "69b7066a",
   "metadata": {},
   "outputs": [],
   "source": [
    "from collections import defaultdict\n",
    "\n",
    "def crear_diccionario_equivalencias(df: pd.DataFrame)-> dict:\n",
    "    final_dict = defaultdict(dict)\n",
    "    for nombre in list(df[\"name\"]):\n",
    "        final_dict[eliminar_acentos(nombre).upper()] = nombre\n",
    "    \n",
    "    return dict(final_dict)\n",
    "\n",
    "dep_dict = crear_diccionario_equivalencias(departamentos)\n",
    "prov_dict = crear_diccionario_equivalencias(provincias)\n",
    "dist_dict = crear_diccionario_equivalencias(distritos)"
   ]
  },
  {
   "cell_type": "code",
   "execution_count": 8,
   "id": "0f23e0a8",
   "metadata": {},
   "outputs": [
    {
     "name": "stdout",
     "output_type": "stream",
     "text": [
      "{'AMAZONAS': 'Amazonas',\n",
      " 'ANCASH': 'Áncash',\n",
      " 'APURIMAC': 'Apurímac',\n",
      " 'AREQUIPA': 'Arequipa',\n",
      " 'AYACUCHO': 'Ayacucho',\n",
      " 'CAJAMARCA': 'Cajamarca',\n",
      " 'CALLAO': 'Callao',\n",
      " 'CUSCO': 'Cusco',\n",
      " 'HUANCAVELICA': 'Huancavelica',\n",
      " 'HUANUCO': 'Huánuco',\n",
      " 'ICA': 'Ica',\n",
      " 'JUNIN': 'Junín',\n",
      " 'LA LIBERTAD': 'La Libertad',\n",
      " 'LAMBAYEQUE': 'Lambayeque',\n",
      " 'LIMA': 'Lima',\n",
      " 'LORETO': 'Loreto',\n",
      " 'MADRE DE DIOS': 'Madre de Dios',\n",
      " 'MOQUEGUA': 'Moquegua',\n",
      " 'PASCO': 'Pasco',\n",
      " 'PIURA': 'Piura',\n",
      " 'PUNO': 'Puno',\n",
      " 'SAN MARTIN': 'San Martín',\n",
      " 'TACNA': 'Tacna',\n",
      " 'TUMBES': 'Tumbes',\n",
      " 'UCAYALI': 'Ucayali'}\n"
     ]
    }
   ],
   "source": [
    "from pprint import pprint\n",
    "\n",
    "pprint(dep_dict)"
   ]
  },
  {
   "cell_type": "code",
   "execution_count": 10,
   "id": "5883eee1",
   "metadata": {},
   "outputs": [],
   "source": [
    "import pprint\n",
    "base_out_path = os.path.join(script_dir, \"..\", \"utils\")\n",
    "\n",
    "def write_to_file(final_dict: dict, level: str)-> None:\n",
    "    out_path = os.path.join(base_out_path, f\"{level + \"_equivalencias\"}.py\")\n",
    "    with open(out_path, mode=\"w\", encoding=\"utf-8\") as f:\n",
    "        f.write(f\"{(level + \"_equivalencias\").upper()} = \")\n",
    "        pp = pprint.PrettyPrinter(stream=f, width=200, compact=True)\n",
    "        pp.pprint(final_dict)\n",
    "\n",
    "write_to_file(dep_dict, \"departamentos\")\n",
    "write_to_file(prov_dict, \"provincias\")\n",
    "write_to_file(dist_dict, \"distritos\")\n",
    "        \n",
    "# Then they get pretty formatted with black ubigeos_peru/ubigeos_peru/resources/distritos.py"
   ]
  }
 ],
 "metadata": {
  "kernelspec": {
   "display_name": "Python 3",
   "language": "python",
   "name": "python3"
  },
  "language_info": {
   "codemirror_mode": {
    "name": "ipython",
    "version": 3
   },
   "file_extension": ".py",
   "mimetype": "text/x-python",
   "name": "python",
   "nbconvert_exporter": "python",
   "pygments_lexer": "ipython3",
   "version": "3.12.8"
  }
 },
 "nbformat": 4,
 "nbformat_minor": 5
}
